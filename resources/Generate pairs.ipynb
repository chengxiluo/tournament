{
 "cells": [
  {
   "cell_type": "markdown",
   "metadata": {},
   "source": [
    "## Generate pairs of passages "
   ]
  },
  {
   "cell_type": "code",
   "execution_count": 1,
   "metadata": {
    "collapsed": true
   },
   "outputs": [],
   "source": [
    "import json"
   ]
  },
  {
   "cell_type": "code",
   "execution_count": 5,
   "metadata": {
    "collapsed": true
   },
   "outputs": [],
   "source": [
    "topics = []\n",
    "currentTopic = ''\n",
    "candidates = {}\n",
    "with open('candidates.json') as f:\n",
    "    for line in f:\n",
    "        jObj = json.loads(line.strip())\n",
    "        currentTopic = jObj['topic']\n",
    "        if currentTopic in candidates:\n",
    "            candidates[currentTopic].append(jObj['docno'])\n",
    "        else:\n",
    "            candidates[currentTopic] = [jObj['docno']]"
   ]
  },
  {
   "cell_type": "code",
   "execution_count": 75,
   "metadata": {
    "collapsed": false
   },
   "outputs": [],
   "source": [
    "import math\n",
    "def pairUp(l, includeNone=True):\n",
    "    degree = math.ceil(math.log(len(l), 2))\n",
    "    dummyNodes = int(math.pow(2, degree))\n",
    "    add = dummyNodes - len(l)\n",
    "    l = l + [None]*(dummyNodes - len(l))\n",
    "\n",
    "    upper = int(len(l)/2)\n",
    "    pairs = []\n",
    "\n",
    "    for i in range(0, upper):\n",
    "        left = l[i*2]\n",
    "        right = l[i*2+1]\n",
    "        \n",
    "        # include None elements, add the pair no matter what\n",
    "        if includeNone:\n",
    "            pairs.append( (left, right) )\n",
    "        else:\n",
    "            # otherwise, unless both elements have value, skip them\n",
    "            if not (left and right):\n",
    "                break\n",
    "            else:\n",
    "                pairs.append( (left, right) )\n",
    "    return pairs\n",
    "            \n",
    "\n",
    "#         print('%s -- %s' % (str(l[i*2]), str(l[i*2+1])))\n",
    "\n"
   ]
  },
  {
   "cell_type": "code",
   "execution_count": 87,
   "metadata": {
    "collapsed": false
   },
   "outputs": [],
   "source": [
    "import random\n",
    "def generateID():\n",
    "    randomID = ''.join(random.choice('0123456789ABCDEF') for i in range(16))\n",
    "    return randomID"
   ]
  },
  {
   "cell_type": "code",
   "execution_count": 63,
   "metadata": {
    "collapsed": false
   },
   "outputs": [],
   "source": [
    "# select 10 topics for a pilot\n",
    "\n",
    "pilotTopics = ['31_1', '32_2', '33_3', '34_4', '37_5', '40_6', '49_7', '50_8', '54_9', '67_10']\n",
    "pilotCandidates = {}\n",
    "for c in candidates:\n",
    "    if c in pilotTopics:\n",
    "        pilotCandidates[c] = candidates[c]\n"
   ]
  },
  {
   "cell_type": "code",
   "execution_count": 88,
   "metadata": {
    "collapsed": false
   },
   "outputs": [],
   "source": [
    "allPairs = []\n",
    "\n",
    "for topic in pilotTopics:\n",
    "    pairs = pairUp(pilotCandidates[topic], includeNone=True)\n",
    "    for p in pairs:\n",
    "        (left, right) = p\n",
    "    \n",
    "        newPair = {}\n",
    "        newPair['id'] = generateID()\n",
    "        newPair['topic'] = topic\n",
    "        newPair['left'] = left\n",
    "        newPair['right'] = right\n",
    "        allPairs.append(newPair)\n",
    "\n",
    "pairsFile = 'pairs.json'\n",
    "with open(pairsFile, 'w') as f:\n",
    "    for p in allPairs:\n",
    "        f.write(json.dumps(p))\n",
    "        f.write('\\n')\n"
   ]
  },
  {
   "cell_type": "code",
   "execution_count": null,
   "metadata": {
    "collapsed": true
   },
   "outputs": [],
   "source": []
  }
 ],
 "metadata": {
  "kernelspec": {
   "display_name": "Python 3",
   "language": "python",
   "name": "python3"
  },
  "language_info": {
   "codemirror_mode": {
    "name": "ipython",
    "version": 3
   },
   "file_extension": ".py",
   "mimetype": "text/x-python",
   "name": "python",
   "nbconvert_exporter": "python",
   "pygments_lexer": "ipython3",
   "version": "3.5.2"
  }
 },
 "nbformat": 4,
 "nbformat_minor": 2
}
