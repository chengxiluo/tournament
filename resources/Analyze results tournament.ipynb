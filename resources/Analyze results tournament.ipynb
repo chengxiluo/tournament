{
 "cells": [
  {
   "cell_type": "code",
   "execution_count": 34,
   "metadata": {},
   "outputs": [],
   "source": [
    "import json\n",
    "from datetime import datetime\n",
    "resFile = 'results/april17/experiments100.rest.res.json'"
   ]
  },
  {
   "cell_type": "code",
   "execution_count": 35,
   "metadata": {
    "collapsed": false,
    "jupyter": {
     "outputs_hidden": false
    }
   },
   "outputs": [
    {
     "name": "stdout",
     "output_type": "stream",
     "text": [
      "***\n",
      "***\n"
     ]
    }
   ],
   "source": [
    "\"\"\"\n",
    "Check which workers completed the golden HITs correctly.\n",
    "\"\"\"\n",
    "import csv\n",
    "\n",
    "workers = {}\n",
    "with open(resFile) as f:\n",
    "    for line in f:\n",
    "        jObj = json.loads(line.strip())\n",
    "        worker = jObj['workerID']\n",
    "        if worker not in workers:\n",
    "            workers[worker] = []\n",
    "        workers[worker].append(jObj)\n",
    "\n",
    "\n",
    "for w in workers:\n",
    "    choseCorrectly = True\n",
    "    i = 0\n",
    "    \n",
    "    print('***')\n",
    "    for j in workers[w]:\n",
    "        i += 1\n",
    "        if j['golden']:\n",
    "            \n",
    "            choseCorrectly = (choseCorrectly and (j['selected'] == j['bestanswer']))\n",
    "            if not choseCorrectly:\n",
    "                print('%d :: FALSE:: Worker :: %s, golden correct: %s :: expID :: %s' % (i, w, j['selected'] == j['bestanswer'], j['expID']))\n",
    "                \n",
    "#                 print(\"expID :: %s\" % j['expID'])\n",
    "                print(datetime.fromtimestamp(int(j['timestamp']['$numberLong'])/1000))\n",
    "                print('{left} - {right}'.format(left=j['left'], right=j['right']))\n",
    "                print(\"choseCorrectly :: %s\\n\" % choseCorrectly)\n",
    "                \n",
    "#             else:\n",
    "#                 print('%d :: Worker :: %s, golden correct: %s :: expID :: %s' % (i, w, choseCorrectly, j['expID']))\n"
   ]
  },
  {
   "cell_type": "code",
   "execution_count": 36,
   "metadata": {
    "collapsed": false,
    "jupyter": {
     "outputs_hidden": false
    }
   },
   "outputs": [
    {
     "name": "stdout",
     "output_type": "stream",
     "text": [
      "35EF362B2F991121\n",
      "{'A1OUUZSD5DD4ZN'}\n",
      "***\n",
      "6F96A1BC4C98E5B2\n",
      "{'A1OUUZSD5DD4ZN'}\n",
      "***\n",
      "E85E95ADABBF366B\n",
      "{'A1PTH9KTRO06EG'}\n",
      "***\n"
     ]
    }
   ],
   "source": [
    "\"\"\"\n",
    "Get IDs of completed experiments.\n",
    "\"\"\"\n",
    "\n",
    "allJudgements = []\n",
    "expIDs = {}\n",
    "\n",
    "for w in workers:\n",
    "    for j in workers[w]:\n",
    "        allJudgements.append(j)\n",
    "\n",
    "for j in allJudgements:\n",
    "    if j['expID'] in expIDs:\n",
    "        expIDs[j['expID']].add(j['workerID'])\n",
    "    else:\n",
    "        expIDs[j['expID']] = set()\n",
    "        expIDs[j['expID']].add(j['workerID'])\n",
    "               \n",
    "\n",
    "for e in expIDs.items():\n",
    "    print(e[0])\n",
    "    print(e[1])\n",
    "    print('***')"
   ]
  },
  {
   "cell_type": "code",
   "execution_count": 35,
   "metadata": {
    "collapsed": false,
    "jupyter": {
     "outputs_hidden": false
    }
   },
   "outputs": [],
   "source": [
    "import csv\n",
    "def loadExpIDs(filename):\n",
    "    ids = []\n",
    "    with open(filename) as f:\n",
    "        reader = csv.DictReader(f, fieldnames=['EXPERIMENT_ID'])\n",
    "        next(reader)\n",
    "        for line in reader:\n",
    "            ids.append(line['EXPERIMENT_ID'])\n",
    "    return ids"
   ]
  },
  {
   "cell_type": "code",
   "execution_count": 6,
   "metadata": {},
   "outputs": [],
   "source": [
    "import csv, json\n",
    "def loadResults(filename):\n",
    "    res = []\n",
    "    with open(filename) as f:\n",
    "        for line in f:\n",
    "            jObj = json.loads(line.strip())\n",
    "            if type(jObj['timestamp']) != type(1):\n",
    "                t = jObj['timestamp']['$numberLong']\n",
    "                jObj['timestamp'] = int(t)\n",
    "            res.append(jObj)\n",
    "    return res"
   ]
  },
  {
   "cell_type": "code",
   "execution_count": 37,
   "metadata": {},
   "outputs": [],
   "source": [
    "# expIDs = loadExpIDs('experiments000_batch1.csv')\n",
    "res = loadResults('results/april17/experiments100.rest.res.json')\n",
    "\n",
    "filteredResults = []\n",
    "for r in res:\n",
    "    if r['golden']:\n",
    "        continue\n",
    "    filteredResults.append(r)\n",
    "\n",
    "fOut = 'results/april17/experiments100.rest.res.no_golden.json'\n",
    "with open(fOut, 'w') as f:\n",
    "    for r in filteredResults:\n",
    "        f.write(json.dumps(r))\n",
    "        f.write('\\n')\n"
   ]
  },
  {
   "cell_type": "code",
   "execution_count": 8,
   "metadata": {},
   "outputs": [],
   "source": [
    "def loadPairs(fname):\n",
    "    pairs = []\n",
    "    with open(fname) as f:\n",
    "        for line in f:\n",
    "            topic, c1, c2 = line.strip().split()\n",
    "            pairs.append( (topic, c1, c2) )\n",
    "    return pairs"
   ]
  },
  {
   "cell_type": "code",
   "execution_count": 60,
   "metadata": {},
   "outputs": [],
   "source": [
    "# fOut = 'results/experiments000_results_no_golden.json'\n",
    "with open(fOut, 'w') as f:\n",
    "    for r in res:\n",
    "        if r['golden']:\n",
    "            continue\n",
    "        f.write(json.dumps(r))\n",
    "        f.write('\\n')"
   ]
  },
  {
   "cell_type": "code",
   "execution_count": 36,
   "metadata": {},
   "outputs": [],
   "source": []
  },
  {
   "cell_type": "code",
   "execution_count": 38,
   "metadata": {},
   "outputs": [],
   "source": [
    "from datetime import datetime\n",
    "res = loadResults('results/april17/test.100.res.-30.json')\n",
    "\n",
    "d = {}\n",
    "i = 0\n",
    "for r in res:\n",
    "    left = r['left']\n",
    "    right = r['right']\n",
    "    selected = r['selected']\n",
    "    expID = r['expID']\n",
    "    workerID = r['workerID']\n",
    "    t = r['timestamp']\n",
    "    p = (left, right, expID, workerID)\n",
    "    if p in d:\n",
    "        i += 1\n",
    "        d[p].append( (selected, t) )\n",
    "    else:\n",
    "        d[p] = [ (selected, t) ]\n",
    "        \n",
    "for i in d.items():\n",
    "    if len(i[1]) > 1:\n",
    "        print(i[0])\n",
    "#         print(i[1])\n",
    "        for c in i[1]:\n",
    "            dt = datetime.fromtimestamp(c[1]/1000)\n",
    "            print('{ts} :: {time} :: {choice}'.format(ts=c[1], time=dt, choice=c[0]) )\n",
    "        print('*'*20)\n",
    "        \n",
    "#         1545730073\n",
    "#         1584567872796"
   ]
  },
  {
   "cell_type": "code",
   "execution_count": 26,
   "metadata": {},
   "outputs": [
    {
     "name": "stdout",
     "output_type": "stream",
     "text": [
      "3498\n",
      "1987\n"
     ]
    }
   ],
   "source": [
    "print(len(pairs))\n",
    "print(len(res))"
   ]
  },
  {
   "cell_type": "code",
   "execution_count": 39,
   "metadata": {},
   "outputs": [
    {
     "name": "stdout",
     "output_type": "stream",
     "text": [
      "3518\n",
      "****\n",
      "total pairs: 3498\n",
      "unjudged pairs: 0\n",
      "judged pairs: 3498\n"
     ]
    }
   ],
   "source": [
    "res = loadResults('results/april17/test.100.res.-30.json')\n",
    "pairs = loadPairs('results/april17/test.100')\n",
    "myselections = []\n",
    "i = 0\n",
    "counter = 0\n",
    "print(len(res))\n",
    "notjudged = []\n",
    "judged = []\n",
    "for p in pairs:\n",
    "    foundAnswer = False\n",
    "    i += 1\n",
    "    topic, c1, c2 = p\n",
    "    j = 0\n",
    "    used = None\n",
    "\n",
    "    for r in res:\n",
    "        assert(r['left'] != r['right'])\n",
    "        if ((r['topic'] == topic) and (r['left'] in [c1, c2]) and (r['right'] in [c1, c2])):\n",
    "#             j += 1\n",
    "#             if j > 1:\n",
    "#                 print(j)\n",
    "#                 print(i)\n",
    "#                 print(topic, c1, c2)\n",
    "#                 print(r)\n",
    "#                 print('*'*20)\n",
    "            myselections.append((topic, c1, c2, r['selected']) )\n",
    "            used = r\n",
    "            foundAnswer = True\n",
    "            break\n",
    "        \n",
    "    if not foundAnswer:\n",
    "        notjudged.append(p)\n",
    "    else:\n",
    "        judged.append(p)\n",
    "    try:\n",
    "        res.remove(used)\n",
    "    except ValueError as e:\n",
    "        counter += 1\n",
    "#         print(used)\n",
    "    \n",
    "print('****')\n",
    "# print(len(res))            \n",
    "# print(i)\n",
    "# print(counter)\n",
    "# print(len(myselections))\n",
    "print('total pairs: {l}'.format(l=len(pairs)))\n",
    "print('unjudged pairs: {l}'.format(l=len(notjudged)))\n",
    "print('judged pairs: {l}'.format(l=len(judged)))\n",
    "\n",
    "\n",
    "#             "
   ]
  },
  {
   "cell_type": "code",
   "execution_count": 32,
   "metadata": {},
   "outputs": [
    {
     "name": "stdout",
     "output_type": "stream",
     "text": [
      "32_10 CAR_c9e04e949d7107321e263508cff30eb98a13a560 MARCO_6763412\n",
      "32_11 MARCO_3632497 MARCO_7523018\n",
      "33_6 MARCO_7273395 MARCO_7273403\n",
      "34_2 CAR_1b19bac71cf0147b06d28a908c3ee204d1ac3839 CAR_cded43587fd0308695dad1d0d9a1c1d4a57528bf\n",
      "34_4 CAR_a8be49221a232cb39a76943ba0c44990203fb1ec CAR_a8e08171094026d8625d619a61d07583f4ba255b\n",
      "34_6 CAR_84b09d0fc9068e7332b8af9d8ecf1cec7ff053b4 CAR_f5103b66a05d8c54f56b676cc5363d4ad9ff937e\n",
      "37_7 CAR_eb7fe94c6784df26dfcdf5aadcc656f043ee2c75 MARCO_8834764\n",
      "40_5 CAR_224fe1e4b78faf97a1319f1b98f2c2e0446bd9e4 CAR_dce685d14bfa5a44eac27212fe432d9436ad823f\n",
      "50_3 CAR_16eccf2a08f153ab8136484d2bc3125bdc226bff CAR_3e82b449536bab5c5cf63ef3366d7af62d585497\n",
      "54_3 CAR_f31c92aada52df5b0f60a8e3b7f24d7c586bd8f5 MARCO_620464\n",
      "54_6 MARCO_6422474 MARCO_6475243\n",
      "58_2 CAR_0c566fee99742c8af35c2d631a94d47b9a5764a8 CAR_148c1be6a4c6b2a2eefa0379b608dd25b0290838\n",
      "59_5 MARCO_1426190 MARCO_8757626\n",
      "69_7 MARCO_5932552 MARCO_5932554\n",
      "75_5 MARCO_1478539 MARCO_1628228\n",
      "31_2 MARCO_4976184 MARCO_8046970\n",
      "50_8 CAR_b38f86f46a9754f9e2865b7cbe8c2de4d7f9c25c CAR_d5c5bac9b1e21d6aefc0c08f1a729bbb5abc49b8\n",
      "54_1 MARCO_4914509 MARCO_6800735\n",
      "67_6 CAR_bbf5d1e92a7d81f934f5a590825ea05ec6b7a966 MARCO_2074177\n",
      "40_4 CAR_8d9987adcff10383ffc08233565a294a2057a2c8 CAR_90004c3c9d3f41aeb0d08668f491e7a08e1298fc\n",
      "68_3 CAR_a4e7d54c40470d0a659c671ab9c05c805d577051 CAR_cbd75cf73b7376997c79583c87c7530dd38b9f5e\n",
      "68_6 MARCO_216294 MARCO_6807278\n",
      "68_9 MARCO_258529 MARCO_8028416\n",
      "69_10 MARCO_7980998 MARCO_97924\n",
      "79_8 CAR_d6ecc524cd8e9622f8b8a5e4b54c7b3a7ddf2c77 MARCO_6800094\n",
      "56_6 CAR_2983bda99f749fc1dcb8dc14657258bfff9d06fe CAR_6ed909adf98524bd28c2633e6f400ee1bac72308\n",
      "77_7 MARCO_7667711 MARCO_7667715\n",
      "67_8 MARCO_6327407 MARCO_7687461\n",
      "67_8 MARCO_1938988 MARCO_833426\n",
      "67_8 MARCO_7382240 MARCO_8075882\n"
     ]
    }
   ],
   "source": [
    "for p in notjudged:\n",
    "    print('{topic} {left} {right}'.format(topic=p[0], left=p[1], right=p[2]))"
   ]
  },
  {
   "cell_type": "code",
   "execution_count": 40,
   "metadata": {},
   "outputs": [],
   "source": [
    "with open('results/april17/test.100.res.full', 'w') as f:\n",
    "    for s in myselections:\n",
    "        f.write('{topic} {c1} {c2} {ans}\\n'.format(topic=s[0], c1=s[1], c2=s[2], ans=s[3]))"
   ]
  },
  {
   "cell_type": "code",
   "execution_count": 16,
   "metadata": {},
   "outputs": [
    {
     "ename": "NameError",
     "evalue": "name 'judged' is not defined",
     "output_type": "error",
     "traceback": [
      "\u001b[0;31m---------------------------------------------------------------------------\u001b[0m",
      "\u001b[0;31mNameError\u001b[0m                                 Traceback (most recent call last)",
      "\u001b[0;32m<ipython-input-16-c338d47e3db1>\u001b[0m in \u001b[0;36m<module>\u001b[0;34m\u001b[0m\n\u001b[1;32m      1\u001b[0m \u001b[0mnotJudged\u001b[0m \u001b[0;34m=\u001b[0m \u001b[0;34m[\u001b[0m\u001b[0;34m]\u001b[0m\u001b[0;34m\u001b[0m\u001b[0;34m\u001b[0m\u001b[0m\n\u001b[1;32m      2\u001b[0m \u001b[0;32mfor\u001b[0m \u001b[0mp\u001b[0m \u001b[0;32min\u001b[0m \u001b[0mpairs\u001b[0m\u001b[0;34m:\u001b[0m\u001b[0;34m\u001b[0m\u001b[0;34m\u001b[0m\u001b[0m\n\u001b[0;32m----> 3\u001b[0;31m     \u001b[0;32mif\u001b[0m \u001b[0mp\u001b[0m \u001b[0;32mnot\u001b[0m \u001b[0;32min\u001b[0m \u001b[0mjudged\u001b[0m\u001b[0;34m:\u001b[0m\u001b[0;34m\u001b[0m\u001b[0;34m\u001b[0m\u001b[0m\n\u001b[0m\u001b[1;32m      4\u001b[0m         \u001b[0mnotJudged\u001b[0m\u001b[0;34m.\u001b[0m\u001b[0mappend\u001b[0m\u001b[0;34m(\u001b[0m\u001b[0mp\u001b[0m\u001b[0;34m)\u001b[0m\u001b[0;34m\u001b[0m\u001b[0;34m\u001b[0m\u001b[0m\n\u001b[1;32m      5\u001b[0m \u001b[0;34m\u001b[0m\u001b[0m\n",
      "\u001b[0;31mNameError\u001b[0m: name 'judged' is not defined"
     ]
    }
   ],
   "source": [
    "notJudged = []\n",
    "for p in pairs:\n",
    "    if p not in judged:\n",
    "        notJudged.append(p)\n",
    "        \n",
    "for p in notJudged:\n",
    "    print(p)\n",
    "        "
   ]
  },
  {
   "cell_type": "code",
   "execution_count": 17,
   "metadata": {},
   "outputs": [],
   "source": [
    "for p in notjudged:\n",
    "    print(p)\n",
    "#expID     6D6184E2E127A6EA"
   ]
  },
  {
   "cell_type": "code",
   "execution_count": 102,
   "metadata": {},
   "outputs": [
    {
     "name": "stdout",
     "output_type": "stream",
     "text": [
      "0\n"
     ]
    }
   ],
   "source": [
    "print(len(res))"
   ]
  },
  {
   "cell_type": "code",
   "execution_count": 98,
   "metadata": {},
   "outputs": [
    {
     "name": "stdout",
     "output_type": "stream",
     "text": [
      "2502\n"
     ]
    }
   ],
   "source": [
    "print(len(myselections))"
   ]
  },
  {
   "cell_type": "code",
   "execution_count": 95,
   "metadata": {},
   "outputs": [
    {
     "name": "stdout",
     "output_type": "stream",
     "text": [
      "True\n",
      "True\n"
     ]
    }
   ],
   "source": [
    "a  = 1\n",
    "b = 2\n",
    "\n",
    "c = 2\n",
    "d = 1\n",
    "\n",
    "print(((a,b) == (c,d)) or ((b,a) == (c,d)))\n",
    "print((a in (c,d)) and (b in (c,d)))"
   ]
  },
  {
   "cell_type": "code",
   "execution_count": 35,
   "metadata": {},
   "outputs": [
    {
     "name": "stdout",
     "output_type": "stream",
     "text": [
      "AK4WZEW584BR9: {'7DAD5753CB59D800'}\n",
      "\n",
      "A2P065E9CYMYJL: {'21B80A1797FF9D35'}\n",
      "\n",
      "A1F669OTXWIJW0: {'ECE9D5AD3D7A4F97'}\n",
      "\n",
      "A2JP9IKRHNLRPI: {'A22DBD622AE773D0', 'BD0C5329074E547C', 'F9FF2DB24CBB0A3F'}\n",
      "\n",
      "A14EYTLSMJRPUK: {'BD0C5329074E547C'}\n",
      "\n",
      "A1CSL2I9M8H1FI: {'5EFF5E5F1FE47C08'}\n",
      "\n",
      "A35D31QHYQUF9V: {'6921A4D9C08B579F'}\n",
      "\n",
      "A37OUZOGQKGMW0: {'41E986B4D30A9922'}\n",
      "\n",
      "A1SX8IVV82M0LW: {'92D52CEC16D69AC3', 'AF8ED1E4B3B883A1', 'C11C778706F500F6', '6D6184E2E127A6EA', 'A22DBD622AE773D0', '1CE9B15520DCFB71', '1AFB4A15AD563FF1'}\n",
      "\n",
      "A26LOVXF4QZZCO: {'92D52CEC16D69AC3'}\n",
      "\n",
      "A10249252O9I20MRSOBVF: {'E471310CC7271F81'}\n",
      "\n",
      "A1E77HZO63E334: {'4830613628355D38', '897826E128391D75', '92D52CEC16D69AC3', '41E986B4D30A9922', '843F34FA01EFF378', 'B93FA5F8E1287E9A', '1AFB4A15AD563FF1'}\n",
      "\n",
      "A30GJ0HHLO16E8: {'E0B23401F8A09CF8'}\n",
      "\n",
      "A37S96RT1P1IT2: {'AE54F7EE9C726A37'}\n",
      "\n",
      "A27SMEOPKV84VI: {'A19BCB691076FF8F'}\n",
      "\n",
      "A1P2RQ166VS5BT: {'408929A5C7CF09B9'}\n",
      "\n",
      "A3UUH3632AI3ZX: {'B93FA5F8E1287E9A'}\n",
      "\n",
      "A3J85WP15JFYW0: {'B93FA5F8E1287E9A'}\n",
      "\n",
      "A18G2CLYSTENK: {'990BA8360D742CDD'}\n",
      "\n",
      "A1DD23J1WBGQUU: {'3FB33D550FE3B7CA'}\n",
      "\n",
      "A2O2Y99RA9GFUJ: {'88215FDE2A26DC96'}\n",
      "\n",
      "AETIZKQNUSBLB: {'1AFB4A15AD563FF1'}\n",
      "\n",
      "A2S37P50AYCUYV: {'7D13AADC4FC4EFC9'}\n",
      "\n",
      "A12FTSX85NQ8N9: {'E63507B5947529A7', '07692D38E57C66DF'}\n",
      "\n",
      "A2OVWCQ4B9AHFY: {'6EBFF0BCFA482579'}\n",
      "\n",
      "AJRY9ALX8069Y: {'6EBFF0BCFA482579'}\n",
      "\n",
      "A11TREGDHSUSJW: {'990BA8360D742CDD'}\n",
      "\n",
      "A333STM8M95GJX: {'9AE3E26CB892A6AC'}\n",
      "\n",
      "AVBRJBJONL47I: {'29028824779CE64D'}\n",
      "\n",
      "A1F1BIPJR11LSR: {'A22DBD622AE773D0'}\n",
      "\n",
      "A1DZMZTXWOM9MR: {'F9FF2DB24CBB0A3F'}\n",
      "\n",
      "AYPOAY43REHC8: {'DD5350CE907E03CC'}\n",
      "\n",
      "A270HX8LH9LJ8W: {'AF249347DDB9F028', 'AE54F7EE9C726A37'}\n",
      "\n",
      "A1OBB3PWYWK9KK: {'EE1AFEA889996BF4'}\n",
      "\n",
      "AA4KKLIU4C3NY: {'DD5350CE907E03CC'}\n",
      "\n",
      "A2FGKKWP33DFWS: {'5EFF5E5F1FE47C08'}\n",
      "\n",
      "A2N2GFB33ZMYGF: {'92D52CEC16D69AC3'}\n",
      "\n"
     ]
    }
   ],
   "source": [
    "res = loadResults('results/march26/experiments001_res_no_golden.json')\n",
    "workerDict = {}\n",
    "for r in res:\n",
    "    w = r['workerID']\n",
    "    if w not in workerDict:\n",
    "        workerDict[w] = set()\n",
    "        workerDict[w].add(r['expID'])\n",
    "    else:\n",
    "        workerDict[w].add(r['expID'])\n",
    "#     workerDict[w] = workerDict.get(w, 0) + 1\n",
    "    \n",
    "for i in workerDict.items():\n",
    "    print('{w}: {c}\\n'.format(w=i[0], c=i[1]))"
   ]
  },
  {
   "cell_type": "code",
   "execution_count": null,
   "metadata": {},
   "outputs": [],
   "source": []
  }
 ],
 "metadata": {
  "kernelspec": {
   "display_name": "Python 3",
   "language": "python",
   "name": "python3"
  },
  "language_info": {
   "codemirror_mode": {
    "name": "ipython",
    "version": 3
   },
   "file_extension": ".py",
   "mimetype": "text/x-python",
   "name": "python",
   "nbconvert_exporter": "python",
   "pygments_lexer": "ipython3",
   "version": "3.7.4"
  }
 },
 "nbformat": 4,
 "nbformat_minor": 4
}
