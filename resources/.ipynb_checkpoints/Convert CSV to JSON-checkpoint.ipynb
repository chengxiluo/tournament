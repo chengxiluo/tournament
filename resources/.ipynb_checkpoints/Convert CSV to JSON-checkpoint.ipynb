{
 "cells": [
  {
   "cell_type": "markdown",
   "metadata": {},
   "source": [
    "# Convert CSV to JSON so that Mongo can upload it\n",
    "\n",
    "MongoDB's client called Compass has issues when uploading csv with long texts. \n",
    "\n",
    "Maybe with proper escaping it would work fine, but I find it easier to convert everything to JSON."
   ]
  },
  {
   "cell_type": "code",
   "execution_count": 1,
   "metadata": {
    "collapsed": true
   },
   "outputs": [],
   "source": [
    "import csv\n",
    "import json\n"
   ]
  },
  {
   "cell_type": "code",
   "execution_count": 11,
   "metadata": {
    "collapsed": false
   },
   "outputs": [],
   "source": [
    "csvfilename = 'candidates.csv'\n",
    "jsonfilename = 'candidates.json'\n",
    "candidates = []\n",
    "with open(csvfilename) as f:\n",
    "    csvreader = csv.DictReader(f, fieldnames=['topic', 'docno', 'passage'])\n",
    "    next(csvreader)  # skip headers\n",
    "    for row in csvreader:\n",
    "        cand = {}\n",
    "        cand['topic'] = row['topic']\n",
    "        cand['docno'] = row['docno']\n",
    "        cand['passage'] = row['passage']\n",
    "        candidates.append(cand)\n",
    "with open(jsonfilename, 'w') as f:\n",
    "    for c in candidates:\n",
    "        f.write(json.dumps(c))\n",
    "        f.write('\\n')"
   ]
  },
  {
   "cell_type": "code",
   "execution_count": 4,
   "metadata": {
    "collapsed": true
   },
   "outputs": [],
   "source": [
    "csvfilename = 'topics.csv'\n",
    "jsonfilename = 'topics.json'\n",
    "candidates = []\n",
    "with open(csvfilename) as f:\n",
    "    csvreader = csv.DictReader(f, fieldnames=['topic', 'question', 'bestanswer'])\n",
    "    next(csvreader)  # skip headers\n",
    "    for row in csvreader:\n",
    "        cand = {}\n",
    "        cand['topic'] = row['topic']\n",
    "        cand['question'] = row['question']\n",
    "        cand['bestanswer'] = row['bestanswer']\n",
    "        candidates.append(cand)\n",
    "with open(jsonfilename, 'w') as f:\n",
    "    for c in candidates:\n",
    "        f.write(json.dumps(c))\n",
    "        f.write('\\n')"
   ]
  },
  {
   "cell_type": "code",
   "execution_count": null,
   "metadata": {
    "collapsed": true
   },
   "outputs": [],
   "source": []
  }
 ],
 "metadata": {
  "kernelspec": {
   "display_name": "Python 3",
   "language": "python",
   "name": "python3"
  },
  "language_info": {
   "codemirror_mode": {
    "name": "ipython",
    "version": 3
   },
   "file_extension": ".py",
   "mimetype": "text/x-python",
   "name": "python",
   "nbconvert_exporter": "python",
   "pygments_lexer": "ipython3",
   "version": "3.5.2"
  }
 },
 "nbformat": 4,
 "nbformat_minor": 2
}
